{
  "nbformat": 4,
  "nbformat_minor": 0,
  "metadata": {
    "colab": {
      "provenance": [],
      "authorship_tag": "ABX9TyMX31aNc7QPfSXJRYJd3gmV",
      "include_colab_link": true
    },
    "kernelspec": {
      "name": "python3",
      "display_name": "Python 3"
    },
    "language_info": {
      "name": "python"
    }
  },
  "cells": [
    {
      "cell_type": "markdown",
      "metadata": {
        "id": "view-in-github",
        "colab_type": "text"
      },
      "source": [
        "<a href=\"https://colab.research.google.com/github/guzxta/TESTE_ESTAGIO/blob/main/TESTE_EST%C3%81GIO.ipynb\" target=\"_parent\"><img src=\"https://colab.research.google.com/assets/colab-badge.svg\" alt=\"Open In Colab\"/></a>"
      ]
    },
    {
      "cell_type": "code",
      "execution_count": 11,
      "metadata": {
        "colab": {
          "base_uri": "https://localhost:8080/"
        },
        "id": "1i3OmOrS6_u4",
        "outputId": "44fc714e-c54f-4057-a1af-d879b3d4e65b"
      },
      "outputs": [
        {
          "output_type": "stream",
          "name": "stdout",
          "text": [
            "91\n"
          ]
        }
      ],
      "source": [
        "#QUESTÃO 1\n",
        "\n",
        "# O valor da váriavel soma é 91\n",
        "INDICE = 13\n",
        "SOMA = 0\n",
        "K = 0\n",
        "\n",
        "while K < INDICE:\n",
        "    K = K + 1\n",
        "    SOMA = SOMA + K\n",
        "    if K >= INDICE:\n",
        "        break\n",
        "\n",
        "print(SOMA)\n"
      ]
    },
    {
      "cell_type": "code",
      "source": [
        "#QUESTÃO 2\n",
        "def fibonacci(n):\n",
        "    # Inicializa os dois primeiros números da sequência de Fibonacci\n",
        "    fib_0 = 0\n",
        "    fib_1 = 1\n",
        "\n",
        "    # Verifica se o número é um dos dois primeiros números da sequência\n",
        "    if n == fib_0 or n == fib_1:\n",
        "        return True\n",
        "\n",
        "    # Calcula a sequência até o próximo número ser maior que n\n",
        "    while fib_1 <= n:\n",
        "        # Calcula o próximo número da sequência\n",
        "        fib_proximo = fib_0 + fib_1\n",
        "        # Verifica se o número pertence à sequência\n",
        "        if n == fib_proximo:\n",
        "            return True\n",
        "        # Atualiza os valores para o próximo loop\n",
        "        fib_0, fib_1 = fib_1, fib_proximo\n",
        "\n",
        "    # Se o número não pertencer a sequência, retorna False\n",
        "    return False\n",
        "\n",
        "# Número a ser verificado\n",
        "numero = 55\n",
        "\n",
        "\n",
        "# Verifica se o número pertence a sequência\n",
        "if fibonacci(numero):\n",
        "    print(f\"O número {numero} pertence a sequência de Fibonacci.\")\n",
        "else:\n",
        "    print(f\"O número {numero} não pertence a sequência de Fibonacci.\")\n"
      ],
      "metadata": {
        "colab": {
          "base_uri": "https://localhost:8080/"
        },
        "id": "2y7RLNfO7fTr",
        "outputId": "4b289de0-69f1-4c87-f20e-847bbca84c04"
      },
      "execution_count": 12,
      "outputs": [
        {
          "output_type": "stream",
          "name": "stdout",
          "text": [
            "O número 55 pertence a sequência de Fibonacci.\n"
          ]
        }
      ]
    }
  ]
}